{
  "nbformat": 4,
  "nbformat_minor": 0,
  "metadata": {
    "colab": {
      "provenance": []
    },
    "kernelspec": {
      "name": "python3",
      "display_name": "Python 3"
    },
    "language_info": {
      "name": "python"
    }
  },
  "cells": [
    {
      "cell_type": "markdown",
      "source": [
        "# Challenges W10 - Support Vector Machine\n",
        "Author: Ulivia Embunn Tresna Wardani (10322015)"
      ],
      "metadata": {
        "id": "WKwq54NEabKu"
      }
    },
    {
      "cell_type": "markdown",
      "source": [
        "### Loading Data"
      ],
      "metadata": {
        "id": "XIEnlEqMaivK"
      }
    },
    {
      "cell_type": "code",
      "execution_count": 2,
      "metadata": {
        "id": "JCPgsnd8aPSN"
      },
      "outputs": [],
      "source": [
        "# import scikit-learn dataset library\n",
        "from sklearn import datasets\n",
        "\n",
        "# load dataset\n",
        "cancer = datasets.load_breast_cancer()"
      ]
    },
    {
      "cell_type": "markdown",
      "source": [
        "### Exploring Data\n",
        "Check features and target names"
      ],
      "metadata": {
        "id": "iXoxMUeedWWU"
      }
    },
    {
      "cell_type": "code",
      "source": [
        "# Features\n",
        "print(\"Features: \", cancer.feature_names)\n",
        "\n",
        "# Targets\n",
        "print(\"Labels: \", cancer.target_names)"
      ],
      "metadata": {
        "colab": {
          "base_uri": "https://localhost:8080/"
        },
        "id": "On5zFua7dYfD",
        "outputId": "b021511b-849d-4021-8c2f-13b1af0157eb"
      },
      "execution_count": 3,
      "outputs": [
        {
          "output_type": "stream",
          "name": "stdout",
          "text": [
            "Features:  ['mean radius' 'mean texture' 'mean perimeter' 'mean area'\n",
            " 'mean smoothness' 'mean compactness' 'mean concavity'\n",
            " 'mean concave points' 'mean symmetry' 'mean fractal dimension'\n",
            " 'radius error' 'texture error' 'perimeter error' 'area error'\n",
            " 'smoothness error' 'compactness error' 'concavity error'\n",
            " 'concave points error' 'symmetry error' 'fractal dimension error'\n",
            " 'worst radius' 'worst texture' 'worst perimeter' 'worst area'\n",
            " 'worst smoothness' 'worst compactness' 'worst concavity'\n",
            " 'worst concave points' 'worst symmetry' 'worst fractal dimension']\n",
            "Labels:  ['malignant' 'benign']\n"
          ]
        }
      ]
    },
    {
      "cell_type": "markdown",
      "source": [
        "### Splitting Data\n",
        "Split dataset into a training set and a test set"
      ],
      "metadata": {
        "id": "Ow6ACEpVdrnC"
      }
    },
    {
      "cell_type": "code",
      "source": [
        "# import train_test_split function\n",
        "from sklearn.model_selection import train_test_split\n",
        "\n",
        "# split dataset into training set and test set\n",
        "X_train, X_test, y_train, y_test = train_test_split(cancer.data, cancer.target, test_size=0.3, random_state=109)\n",
        "# 70% training and 30% test"
      ],
      "metadata": {
        "id": "xjDzzCVmdqtO"
      },
      "execution_count": 4,
      "outputs": []
    },
    {
      "cell_type": "markdown",
      "source": [
        "### Generating Model\n",
        "Let's build support vector machine model. Fisrt, import the SVM module and create support vector classifier object by passing argument kernel as the linear kernel in SVC() function. Then, fit your model on train set using fit() and perform prediction on the test set using predict()."
      ],
      "metadata": {
        "id": "L_c4IXtdeks1"
      }
    },
    {
      "cell_type": "code",
      "source": [
        "# import svm model\n",
        "from sklearn import svm\n",
        "\n",
        "# create a svm classifier\n",
        "clf = svm.SVC(kernel='linear')\n",
        "\n",
        "# train the model using the training sets\n",
        "clf.fit(X_train, y_train)\n",
        "\n",
        "# predict the response for test dataset\n",
        "y_pred = clf.predict(X_test)"
      ],
      "metadata": {
        "id": "4voVE6EAejxp"
      },
      "execution_count": 5,
      "outputs": []
    },
    {
      "cell_type": "markdown",
      "source": [
        "### Evaluating Model\n"
      ],
      "metadata": {
        "id": "jlifapzmhkV0"
      }
    },
    {
      "cell_type": "code",
      "source": [
        "# import scikit-learn metrics module for accuracy calculation\n",
        "from sklearn import metrics\n",
        "\n",
        "# Model Accuracy: how often is the classifier correct?\n",
        "print(\"Accuracy:\", metrics.accuracy_score(y_test, y_pred))\n",
        "\n",
        "# Model precision: what percentage of positive tuples are labeled as such?\n",
        "print(\"Precision:\", metrics.precision_score(y_test, y_pred))\n",
        "\n",
        "# Model recall: what percentage of positive tuples are labelled as such?\n",
        "print(\"Recall:\", metrics.recall_score(y_test, y_pred))"
      ],
      "metadata": {
        "colab": {
          "base_uri": "https://localhost:8080/"
        },
        "id": "Ycxht8Kphpen",
        "outputId": "863e9fee-459d-48ff-a3f8-e818f13bb0e2"
      },
      "execution_count": 6,
      "outputs": [
        {
          "output_type": "stream",
          "name": "stdout",
          "text": [
            "Accuracy: 0.9649122807017544\n",
            "Precision: 0.9811320754716981\n",
            "Recall: 0.9629629629629629\n"
          ]
        }
      ]
    }
  ]
}